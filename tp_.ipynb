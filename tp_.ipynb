{
 "cells": [
  {
   "cell_type": "code",
   "execution_count": 12,
   "metadata": {},
   "outputs": [
    {
     "ename": "AttributeError",
     "evalue": "module 'curacion' has no attribute 'target_1'",
     "output_type": "error",
     "traceback": [
      "\u001b[0;31m---------------------------------------------------------------------------\u001b[0m",
      "\u001b[0;31mAttributeError\u001b[0m                            Traceback (most recent call last)",
      "Cell \u001b[0;32mIn[12], line 4\u001b[0m\n\u001b[1;32m      2\u001b[0m \u001b[38;5;28;01mimport\u001b[39;00m \u001b[38;5;21;01mmodels\u001b[39;00m \u001b[38;5;28;01mas\u001b[39;00m \u001b[38;5;21;01mmods\u001b[39;00m\n\u001b[1;32m      3\u001b[0m t1 \u001b[38;5;241m=\u001b[39m [] \n\u001b[0;32m----> 4\u001b[0m \u001b[38;5;28mprint\u001b[39m(\u001b[43mcc\u001b[49m\u001b[38;5;241;43m.\u001b[39;49m\u001b[43mtarget_1\u001b[49m)\n\u001b[1;32m      5\u001b[0m log_regr \u001b[38;5;241m=\u001b[39m mods\u001b[38;5;241m.\u001b[39mLogisticRegression()\n\u001b[1;32m      6\u001b[0m log_regr\u001b[38;5;241m.\u001b[39mfit(cc\u001b[38;5;241m.\u001b[39mData_1,t1)\n",
      "\u001b[0;31mAttributeError\u001b[0m: module 'curacion' has no attribute 'target_1'"
     ]
    }
   ],
   "source": [
    "import curacion as cc\n",
    "import models as mods\n",
    "t1 = [] \n",
    "print(cc.target_1)\n",
    "log_regr = mods.LogisticRegression()\n",
    "log_regr.fit(cc.Data_1,t1)\n",
    "log_regr.predict(cc.Data_1)"
   ]
  }
 ],
 "metadata": {
  "kernelspec": {
   "display_name": "Python 3.10.5 64-bit",
   "language": "python",
   "name": "python3"
  },
  "language_info": {
   "codemirror_mode": {
    "name": "ipython",
    "version": 3
   },
   "file_extension": ".py",
   "mimetype": "text/x-python",
   "name": "python",
   "nbconvert_exporter": "python",
   "pygments_lexer": "ipython3",
   "version": "3.10.5"
  },
  "orig_nbformat": 4,
  "vscode": {
   "interpreter": {
    "hash": "aee8b7b246df8f9039afb4144a1f6fd8d2ca17a180786b69acc140d282b71a49"
   }
  }
 },
 "nbformat": 4,
 "nbformat_minor": 2
}
