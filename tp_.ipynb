{
 "cells": [
  {
   "cell_type": "code",
   "execution_count": 13,
   "metadata": {},
   "outputs": [
    {
     "name": "stdout",
     "output_type": "stream",
     "text": [
      "388\n",
      "6\n",
      "7\n"
     ]
    }
   ],
   "source": [
    "import csv\n",
    "import random\n",
    "from imbalanced-learn import \n",
    "\n",
    "Data_1 = []\n",
    "target = []\n",
    "Data_2 = []\n",
    "Data_3 = []\n",
    "Data_4 = []\n",
    "\n",
    "\n",
    "with open('breast_cancer_data/breast_cancer_dev.csv', mode='r', newline='') as file:\n",
    "    csv_reader = csv.reader(file)\n",
    "    i = 0\n",
    "    \n",
    "    for row in csv_reader:\n",
    "        if i != 0:\n",
    "            Data_1.append(row)\n",
    "            Data_4.append(row[:-1])\n",
    "            target.append(int(row[-1]))\n",
    "\n",
    "        i += 1\n",
    "Data_2 = Data_1\n",
    "Data_3 = Data_1\n",
    "cont = 0\n",
    "cont2 = 0\n",
    "for i in target:\n",
    "    if i == 0:\n",
    "        cont += 1\n",
    "    if i == 1:\n",
    "        cont2 += 1\n",
    "while len(Data_2) > 172:\n",
    "    i = random.randint(0,len(Data_2)-1)\n",
    "    if Data_2[i][-1] == '0':\n",
    "        Data_2.pop(i)\n",
    "\n",
    "while len(Data_3) < 776:\n",
    "    i = random.randint(0,len(Data_3)-1)\n",
    "    if Data_3[i][-1] == '1':\n",
    "        Data_3.append(Data_3[i])\n",
    "\n",
    "\n"
   ]
  }
 ],
 "metadata": {
  "kernelspec": {
   "display_name": "Python 3.10.5 64-bit",
   "language": "python",
   "name": "python3"
  },
  "language_info": {
   "codemirror_mode": {
    "name": "ipython",
    "version": 3
   },
   "file_extension": ".py",
   "mimetype": "text/x-python",
   "name": "python",
   "nbconvert_exporter": "python",
   "pygments_lexer": "ipython3",
   "version": "3.10.5"
  },
  "orig_nbformat": 4,
  "vscode": {
   "interpreter": {
    "hash": "aee8b7b246df8f9039afb4144a1f6fd8d2ca17a180786b69acc140d282b71a49"
   }
  }
 },
 "nbformat": 4,
 "nbformat_minor": 2
}
